{
 "cells": [
  {
   "cell_type": "markdown",
   "id": "72dc152a-595f-474d-8a27-8ae08758a02d",
   "metadata": {},
   "source": [
    "# Student Loan Repayment Model Example"
   ]
  },
  {
   "cell_type": "markdown",
   "id": "26a842a1-3daf-477f-9290-b093c49751af",
   "metadata": {},
   "source": [
    "### Import Model"
   ]
  },
  {
   "cell_type": "code",
   "execution_count": null,
   "id": "fc0830e0-0736-4a1f-b645-099e82124d51",
   "metadata": {},
   "outputs": [],
   "source": [
    "from model import StudentLoanModel, RepaymentModel\n",
    "from datetime import datetime"
   ]
  },
  {
   "cell_type": "markdown",
   "id": "cfe2f466-4f64-4dfc-a9a1-2515390dc07a",
   "metadata": {},
   "source": [
    "### Example Model Simulation\n",
    "\n",
    "To create an instance of the StudentLoanModel, you'll need to provide the following parameters:\n",
    "\n",
    "- current_date (datetime): The starting date of the loan. Use Python's datetime module to specify the initial date.\n",
    "- loan_value (float): The initial loan value (the amount borrowed).\n",
    "- write_off_date (datetime): The date when the loan will be written off, if not fully repaid.\n",
    "- current_salary (float): The initial salary of the borrower.\n",
    "- salary_increase (float): The annual salary increase (in percentage).\n",
    "- repayment (RepaymentModel, optional): An object of the RepaymentModel class, specifying the upfront and monthly repayment amounts. If not provided, defaults to zero repayments.\n",
    "- increase_type (str): The type of salary increase. Can either be 'percent' (default) or 'fixed'.\n",
    "- repayment_threshold (float): The income threshold above which repayments are made. Default is £27,295.\n",
    "- repayment_rate (float): The percentage rate at which repayments are calculated above the income threshold. Default is 9%.\n",
    "- interest_rate (float): The annual interest rate applied to the loan balance. Default is 4.3%."
   ]
  },
  {
   "cell_type": "code",
   "execution_count": null,
   "id": "c64079c2-d550-4f73-aaf0-002a005f478d",
   "metadata": {},
   "outputs": [],
   "source": [
    "model = StudentLoanModel(\n",
    "    current_date=datetime.now(),\n",
    "    loan_value=92000,\n",
    "    write_off_date=datetime(2054, 4, 6),\n",
    "    current_salary=130000,\n",
    "    salary_increase=10000, \n",
    "    increase_type='fixed', # set to either 'fixed' or 'percent' (e.g. set salary_increase=3 for a 3% annual increase) \n",
    "    repayment_threshold=27295,\n",
    "    repayment_rate=0.09,\n",
    "    interest_rate=0.05, # Model assumes fixed interest rate\n",
    "    repayment = RepaymentModel(monthly=0, upfront=0) \n",
    ")\n",
    "\n",
    "model.simulate()\n",
    "model.print_summary()\n",
    "model.plot_repayment_summary()"
   ]
  }
 ],
 "metadata": {
  "kernelspec": {
   "display_name": "Python 3 (ipykernel)",
   "language": "python",
   "name": "python3"
  },
  "language_info": {
   "codemirror_mode": {
    "name": "ipython",
    "version": 3
   },
   "file_extension": ".py",
   "mimetype": "text/x-python",
   "name": "python",
   "nbconvert_exporter": "python",
   "pygments_lexer": "ipython3",
   "version": "3.13.4"
  }
 },
 "nbformat": 4,
 "nbformat_minor": 5
}
